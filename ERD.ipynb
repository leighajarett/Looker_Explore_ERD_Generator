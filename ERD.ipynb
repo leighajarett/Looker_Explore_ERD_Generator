{
 "cells": [
  {
   "cell_type": "markdown",
   "metadata": {},
   "source": [
    "# Looker ERD Diagram for a given explore"
   ]
  },
  {
   "cell_type": "markdown",
   "metadata": {},
   "source": [
    "Before running the script, follow the instructions at https://github.com/llooker/python_api_samples to configure a config file and save it in your working directory"
   ]
  },
  {
   "cell_type": "markdown",
   "metadata": {},
   "source": [
    "Import packages"
   ]
  },
  {
   "cell_type": "code",
   "execution_count": 4,
   "metadata": {},
   "outputs": [],
   "source": [
    "import lookerapi\n",
    "import pandas as pd\n",
    "import warnings\n",
    "import numpy as np\n",
    "from google.oauth2 import service_account\n",
    "import pandas_gbq\n",
    "import os\n",
    "#warnings.filterwarnings(\"ignore\")"
   ]
  },
  {
   "cell_type": "markdown",
   "metadata": {},
   "source": [
    "Connect to your Looker Instance"
   ]
  },
  {
   "cell_type": "code",
   "execution_count": 5,
   "metadata": {},
   "outputs": [],
   "source": [
    "#assumes that you the config.yml in current directory\n",
    "config_filename = 'saleseng_config.yml'\n",
    "looker = lookerapi.connect_looker(config_filename)"
   ]
  },
  {
   "cell_type": "markdown",
   "metadata": {},
   "source": [
    "Enter a model name you want to create the ERD for"
   ]
  },
  {
   "cell_type": "code",
   "execution_count": 6,
   "metadata": {},
   "outputs": [
    {
     "name": "stdout",
     "output_type": "stream",
     "text": [
      "https://saleseng.dev.looker.com:19999/api/3.1/lookml_models/thelook_leigha\n"
     ]
    }
   ],
   "source": [
    "model_name = 'thelook_leigha'\n",
    "model = looker.get_model(model_name) "
   ]
  },
  {
   "cell_type": "markdown",
   "metadata": {},
   "source": [
    "Iterate through all the explores and create a dataframe with the metadata for each field"
   ]
  },
  {
   "cell_type": "code",
   "execution_count": 7,
   "metadata": {},
   "outputs": [],
   "source": [
    "field_dict = []\n",
    "for explore_n in model['explores']:\n",
    "    explore = looker.get_explore(explore_name=explore_n[\"name\"],model_name=model_name)\n",
    "    dimensions = explore['fields']['dimensions']\n",
    "    for d in dimensions:\n",
    "        d['explore'] = explore['label']\n",
    "        d['explore_name'] = explore['name']\n",
    "        d['model_name'] = model_name\n",
    "        #d['explore_link'] = looker.host.replace(':19999/api/3.1/','')+'/explore/'+model_name+'/'+explore['name']\n",
    "        d['explore_description'] = explore['description']\n",
    "    measures = explore['fields']['measures']\n",
    "    for m in measures:\n",
    "        m['explore'] = explore['label']\n",
    "        m['explore_name'] = explore['name']\n",
    "        m['model_name'] = model_name\n",
    "        #m['explore_link'] = looker.host.replace(':19999/api/3.1/','')+'/explore/'+model_name+'/'+explore['name']\n",
    "        m['explore_description'] = explore['description']\n",
    "    field_dict = field_dict+dimensions+measures"
   ]
  },
  {
   "cell_type": "code",
   "execution_count": 8,
   "metadata": {},
   "outputs": [],
   "source": [
    "field_df = pd.DataFrame(field_dict)"
   ]
  },
  {
   "cell_type": "markdown",
   "metadata": {},
   "source": [
    "Now we need to get the data in an appropriate text format for the command line tool https://github.com/BurntSushi/erd"
   ]
  },
  {
   "cell_type": "code",
   "execution_count": 9,
   "metadata": {},
   "outputs": [],
   "source": [
    "explore_name = explore_n[\"name\"] #enter explore you want to use\n",
    "explore = looker.get_explore(explore_name=explore_name,model_name=model_name)"
   ]
  },
  {
   "cell_type": "markdown",
   "metadata": {},
   "source": [
    "Initialize and fill the lists with info joins: the base table, joined in table and the details of the join"
   ]
  },
  {
   "cell_type": "code",
   "execution_count": 88,
   "metadata": {},
   "outputs": [],
   "source": [
    "model_erd = dict()\n",
    "model_erd_joins = dict()\n",
    "model_erd_joins['base_tables'] = list()\n",
    "model_erd_joins['secondary_tables'] = list()\n",
    "model_erd_joins['relationships'] = list()\n",
    "model_erd_joins['types'] = list()"
   ]
  },
  {
   "cell_type": "code",
   "execution_count": 89,
   "metadata": {},
   "outputs": [],
   "source": [
    "model_erd[explore['name']] = dict()\n",
    "#model_erd_joins['base_table'] = explore['name']\n",
    "for i in range(len(explore['joins'])):\n",
    "    model_erd[explore['joins'][i]['name']] = dict()\n",
    "    #model_erd_joins[explore['joins'][i]['name']] = (explore['joins'][i]['relationship'], explore['joins'][i]['type'])\n",
    "    \n",
    "    tables_in_join = []\n",
    "    for j in range(len(explore['joins'][i]['dependent_fields'])):\n",
    "        field_name = explore['joins'][i]['dependent_fields'][j]\n",
    "        tables_in_join.append(field_name[0:field_name.find('.')])\n",
    "    tables_in_join = list(set(tables_in_join))\n",
    "\n",
    "    model_erd_joins['base_tables'].append(tables_in_join[0])\n",
    "    model_erd_joins['secondary_tables'].append(tables_in_join[1])\n",
    "    model_erd_joins['relationships'].append(explore['joins'][i]['relationship'])\n",
    "    model_erd_joins['types'].append(explore['joins'][i]['type'])"
   ]
  },
  {
   "cell_type": "markdown",
   "metadata": {},
   "source": [
    "Function to transform the relationship name to proper cardinality format"
   ]
  },
  {
   "cell_type": "code",
   "execution_count": 103,
   "metadata": {},
   "outputs": [],
   "source": [
    "def relationship_to_string(relationship):\n",
    "    if relationship == 'many_to_one':\n",
    "        return '*--1'\n",
    "    elif relationship == 'one_to_one':\n",
    "        return '1--1'\n",
    "    elif relationship == 'many_to_many':\n",
    "        return '*--*'\n",
    "    else:\n",
    "        return '1--*'"
   ]
  },
  {
   "cell_type": "markdown",
   "metadata": {},
   "source": [
    "Add all the fields for each table and the type"
   ]
  },
  {
   "cell_type": "code",
   "execution_count": 104,
   "metadata": {},
   "outputs": [],
   "source": [
    "for ix,i in enumerate(field_df['view']):\n",
    "    for j in model_erd:\n",
    "        if i == j:\n",
    "            model_erd[j][field_df.iloc[ix]['field_group_variant']] = field_df.iloc[ix]['type']"
   ]
  },
  {
   "cell_type": "markdown",
   "metadata": {},
   "source": [
    "Format text appropriately"
   ]
  },
  {
   "cell_type": "code",
   "execution_count": 134,
   "metadata": {},
   "outputs": [],
   "source": [
    "erd_string = 'title {label: \"Entity Relationship Diagram for %s Explore\", size: \"20\"}' % explore['name']\n",
    "\n",
    "erd_string += '\\n\\n # Entities \\n'\n",
    "\n",
    "for i in model_erd:\n",
    "    #add table name\n",
    "    erd_string += '\\n[' + i + ']' \n",
    "    #add table fields and metadata\n",
    "    for j in model_erd[i]:\n",
    "        erd_string += '\\n\\t `%s` ' %j + '{label: \"%s\"}' %model_erd[i][j]\n",
    "        \n",
    "erd_string += '\\n\\n # Relationships \\n\\n'\n",
    "\n",
    "for i in range(len(model_erd_joins['base_tables'])):\n",
    "    erd_string += model_erd_joins['base_tables'][i] + ' '\n",
    "    erd_string += relationship_to_string(model_erd_joins['relationships'][i])\n",
    "    erd_string += ' ' + model_erd_joins['secondary_tables'][i] \n",
    "    erd_string += ' {label: \"%s\"}\\n' % model_erd_joins['types'][i] \n"
   ]
  },
  {
   "cell_type": "markdown",
   "metadata": {},
   "source": [
    "Write the formatted string to a text file"
   ]
  },
  {
   "cell_type": "code",
   "execution_count": 139,
   "metadata": {},
   "outputs": [],
   "source": [
    "model_text_file = open(\"model_erd.er\",\"w+\") \n",
    "model_text_file.write(erd_string)\n",
    "model_text_file.close() "
   ]
  },
  {
   "cell_type": "markdown",
   "metadata": {},
   "source": [
    "Command line 'erd' function called to create the model_erd.pdf if the working directory"
   ]
  },
  {
   "cell_type": "code",
   "execution_count": 140,
   "metadata": {},
   "outputs": [
    {
     "data": {
      "text/plain": [
       "0"
      ]
     },
     "execution_count": 140,
     "metadata": {},
     "output_type": "execute_result"
    }
   ],
   "source": [
    "os.system(\"erd -i model_erd.er -o model_erd.pdf\")"
   ]
  },
  {
   "cell_type": "markdown",
   "metadata": {},
   "source": [
    "Print the string to actually see what it looks like"
   ]
  },
  {
   "cell_type": "code",
   "execution_count": 138,
   "metadata": {},
   "outputs": [
    {
     "name": "stdout",
     "output_type": "stream",
     "text": [
      "title {label: \"Entity Relationship Diagram for inventory_snapshot Explore\", size: \"20\"}\n",
      "\n",
      " # Entities \n",
      "\n",
      "[inventory_snapshot]\n",
      "\t `Number In Stock` {label: \"number\"}\n",
      "\t `Product ID` {label: \"number\"}\n",
      "\t `Snapshot Date` {label: \"date\"}\n",
      "\t `Stock Coverage Ratio` {label: \"number\"}\n",
      "\t `Sum Stock Last Wk` {label: \"sum\"}\n",
      "\t `Sum Stock Yesterday` {label: \"sum\"}\n",
      "\t `Total In Stock` {label: \"sum\"}\n",
      "\t `Stock Coverage Ratio Last Wk` {label: \"number\"}\n",
      "\t `Stock Coverage Ratio Yday` {label: \"number\"}\n",
      "\t `WoW Change - Coverage Ratio` {label: \"string\"}\n",
      "[trailing_sales_snapshot]\n",
      "\t `Product ID` {label: \"number\"}\n",
      "\t `Snapshot Date` {label: \"date\"}\n",
      "\t `Trailing 28d Sales` {label: \"number\"}\n",
      "\t `Sum Trailing 28d Sales` {label: \"sum\"}\n",
      "\t `Sum Trailing 28d Sales Last Wk` {label: \"sum\"}\n",
      "\t `Sum Trailing 28d Sales Yesterday` {label: \"sum\"}\n",
      "[products]\n",
      "\t `Brand` {label: \"string\"}\n",
      "\t `Category` {label: \"string\"}\n",
      "\t `Department` {label: \"string\"}\n",
      "\t `Distribution Center ID` {label: \"number\"}\n",
      "\t `ID` {label: \"number\"}\n",
      "\t `Item Name` {label: \"string\"}\n",
      "\t `Retail Price` {label: \"number\"}\n",
      "\t `SKU` {label: \"string\"}\n",
      "\t `Brand Count` {label: \"count_distinct\"}\n",
      "\t `Category Count` {label: \"count_distinct\"}\n",
      "\t `Count` {label: \"count_distinct\"}\n",
      "\t `Department Count` {label: \"count_distinct\"}\n",
      "[distribution_centers]\n",
      "\t `ID` {label: \"number\"}\n",
      "\t `Latitude` {label: \"string\"}\n",
      "\t `Location` {label: \"location\"}\n",
      "\t `Longitude` {label: \"string\"}\n",
      "\t `Name` {label: \"string\"}\n",
      "\t `Location Latitude Max` {label: \"max\"}\n",
      "\t `Location Latitude Min` {label: \"min\"}\n",
      "\t `Location Longitude Max` {label: \"max\"}\n",
      "\t `Location Longitude Min` {label: \"min\"}\n",
      "\n",
      " # Relationships \n",
      "\n",
      "inventory_snapshot 1--1 trailing_sales_snapshot {label: \"left_outer\"}\n",
      "products *--1 inventory_snapshot {label: \"left_outer\"}\n",
      "products *--1 distribution_centers {label: \"left_outer\"}\n",
      "\n"
     ]
    }
   ],
   "source": [
    "print(erd_string)"
   ]
  },
  {
   "cell_type": "code",
   "execution_count": null,
   "metadata": {},
   "outputs": [],
   "source": []
  }
 ],
 "metadata": {
  "kernelspec": {
   "display_name": "Python 3",
   "language": "python",
   "name": "python3"
  },
  "language_info": {
   "codemirror_mode": {
    "name": "ipython",
    "version": 3
   },
   "file_extension": ".py",
   "mimetype": "text/x-python",
   "name": "python",
   "nbconvert_exporter": "python",
   "pygments_lexer": "ipython3",
   "version": "3.6.5"
  }
 },
 "nbformat": 4,
 "nbformat_minor": 2
}
